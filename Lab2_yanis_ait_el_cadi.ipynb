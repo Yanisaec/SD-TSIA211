{
 "cells": [
  {
   "cell_type": "markdown",
   "metadata": {},
   "source": [
    "# Lab2 Yanis Aït El Cadi"
   ]
  },
  {
   "cell_type": "code",
   "execution_count": 118,
   "metadata": {},
   "outputs": [],
   "source": [
    "import numpy as np\n",
    "import tensorflow as tf\n",
    "from tensorflow import keras\n",
    "from tensorflow.keras import layers\n",
    "import matplotlib.pyplot as plt    \n",
    "import random"
   ]
  },
  {
   "cell_type": "markdown",
   "metadata": {},
   "source": [
    "## 4.1"
   ]
  },
  {
   "cell_type": "markdown",
   "metadata": {},
   "source": [
    "(784 * 32 + 32) + (32 * 32 + 32) + (32 * 10 + 10) = 26 506 parameters by following theory.\n",
    "\n",
    "Which makes sense considering the model provides 26 506 optimizable parameters."
   ]
  },
  {
   "cell_type": "markdown",
   "metadata": {},
   "source": [
    "# 5.1"
   ]
  },
  {
   "cell_type": "markdown",
   "metadata": {},
   "source": [
    "### Data & Model"
   ]
  },
  {
   "cell_type": "code",
   "execution_count": 145,
   "metadata": {},
   "outputs": [],
   "source": [
    "train_data, test_data = tf.keras.datasets.mnist.load_data(path=\"mnist.npz\")\n",
    "\n",
    "x_train = train_data[0].reshape(-1,784).astype(float) / 255\n",
    "y_train = train_data[1]\n",
    "\n",
    "x_test = test_data[0].reshape(-1,784).astype(float) / 255\n",
    "y_test = test_data[1]\n",
    "\n",
    "inputs = keras.Input(shape=(784,), name=\"digits\")\n",
    "x = layers.Dense(32, activation=\"relu\", name=\"dense_1\")(inputs)\n",
    "x = layers.Dense(32, activation=\"relu\", name=\"dense_2\")(x)\n",
    "outputs = layers.Dense(10, activation=None, name=\"predictions\")(x)\n",
    "model = keras.Model(inputs=inputs, outputs=outputs, name=\"mnist_model\")\n",
    "loss = keras.losses.SparseCategoricalCrossentropy(from_logits=True)"
   ]
  },
  {
   "cell_type": "code",
   "execution_count": 148,
   "metadata": {},
   "outputs": [],
   "source": [
    "def SGD(untrained_model,initial_step,batch_size=5):\n",
    "    model =  tf.keras.models.clone_model(untrained_model)\n",
    "    error_list = []\n",
    "    grad_norm = np.inf\n",
    "    k = 0\n",
    "    last_mean_error = 10000000\n",
    "    stop = False\n",
    "    while not stop:\n",
    "        step = initial_step / np.sqrt(k+1)\n",
    "        k += 1\n",
    "\n",
    "        # Take a random batch\n",
    "        z = random.randint(0,x_train.shape[0]-batch_size)\n",
    "        x_train_batch = x_train[z:z+batch_size]\n",
    "        y_train_batch = y_train[z:z+batch_size]\n",
    "\n",
    "        with tf.GradientTape() as tape:\n",
    "            logits = model(x_train_batch)\n",
    "            loss_value = loss(y_train_batch, logits)\n",
    "\n",
    "        grad = tape.gradient(loss_value, model.trainable_weights)\n",
    "\n",
    "        # grad_norm = 0 \n",
    "        # for i in range(len(grad)):\n",
    "        #     grad_norm += 1/len(grad) * tf.norm(grad[i]).numpy()\n",
    "\n",
    "        new_weights = model.trainable_weights.copy()\n",
    "        for i in range(len(new_weights)):\n",
    "            new_weights[i] = new_weights[i] - step * grad[i]\n",
    "        model.set_weights(new_weights)\n",
    "\n",
    "        if k % 10 == 0:\n",
    "            samples_for_evaluation = np.random.randint(0, 10000, 1000)\n",
    "            logits = model(x_train[samples_for_evaluation])\n",
    "            error = loss(y_train[samples_for_evaluation], logits).numpy()\n",
    "            error_list.append([k,np.linalg.norm(error)])\n",
    "            # print(grad_norm)\n",
    "\n",
    "        if k % 1000 == 0:\n",
    "            mean_error = sum(error_list[-100:][1])/100\n",
    "            change = np.abs(mean_error-last_mean_error)/(last_mean_error+mean_error)\n",
    "            print(\"relative change:\",round(change,2))\n",
    "            if change < 0.1:\n",
    "                stop = True\n",
    "            else :\n",
    "                last_mean_error = mean_error\n",
    "    \n",
    "    print(\"Relative change in the error mean gets bellow 10 percent after\",k, \"iterations\")\n",
    "    return model,error_list"
   ]
  },
  {
   "cell_type": "markdown",
   "metadata": {},
   "source": [
    "# 5.2"
   ]
  },
  {
   "cell_type": "code",
   "execution_count": 149,
   "metadata": {},
   "outputs": [
    {
     "name": "stdout",
     "output_type": "stream",
     "text": [
      "relative change: 1.0\n",
      "relative change: 0.96\n",
      "relative change: 0.33\n",
      "relative change: 0.2\n",
      "relative change: 0.14\n",
      "relative change: 0.11\n",
      "relative change: 0.09\n",
      "Relative change in the error mean gets bellow 10 percent after 7000 iterations\n"
     ]
    },
    {
     "data": {
      "image/png": "[encoded data removed]",
      "text/plain": [
       "<Figure size 640x480 with 1 Axes>"
      ]
     },
     "metadata": {},
     "output_type": "display_data"
    }
   ],
   "source": [
    "trained_model,err = SGD(model,1) # This should take around a minute \n",
    "\n",
    "x_values = [error[0] for error in err]\n",
    "y_values = [error[1] for error in err]\n",
    "\n",
    "# Plot the function and the points\n",
    "plt.plot(x_values, y_values, label='NN error', marker='o', linestyle='-', color='blue')\n",
    "plt.xlabel('iteration')\n",
    "plt.ylabel('error')\n",
    "plt.title('NN error at considered iteration')\n",
    "plt.legend()\n",
    "plt.show()"
   ]
  },
  {
   "cell_type": "markdown",
   "metadata": {},
   "source": [
    "# 6.1"
   ]
  },
  {
   "cell_type": "markdown",
   "metadata": {},
   "source": [
    "Already did it in 5.1"
   ]
  },
  {
   "cell_type": "markdown",
   "metadata": {},
   "source": [
    "# 6.2"
   ]
  },
  {
   "cell_type": "markdown",
   "metadata": {},
   "source": [
    "Using mini-batches in training neural networks offers several advantages compared to the extreme alternatives of processing only one element of data every epoch (pure stochastic gradient descent, SGD) or the entire dataset in each epoch (batch gradient descent). \n",
    "\n",
    "The key advantages of using mini-batches include:\n",
    "\n",
    "Efficiency: Mini-batches allow for efficient vectorized operations and better utilization of parallel processing capabilities, making computations faster.\n",
    "\n",
    "Reduced Variance: Mini-batches provide a balance between the low-variance updates of pure SGD and the high-variance updates of batch gradient descent, leading to more stable convergence.\n",
    "\n",
    "Smoothed Objective Function: Mini-batches offer a smoothed estimate of the objective function, stabilizing the optimization process and reducing sensitivity to noise in individual data points.\n",
    "\n",
    "Balance Between Efficiency and Noise: Mini-batches strike a balance between the efficiency of processing larger chunks of data and the noise introduced by using individual data points, leading to faster convergence."
   ]
  },
  {
   "cell_type": "markdown",
   "metadata": {},
   "source": [
    "# 6.3"
   ]
  },
  {
   "cell_type": "markdown",
   "metadata": {},
   "source": [
    "I added the \"batch_size\" parameter which will be equal to 5 if not specified by the user."
   ]
  },
  {
   "cell_type": "markdown",
   "metadata": {},
   "source": [
    "# 7.1"
   ]
  },
  {
   "cell_type": "code",
   "execution_count": 150,
   "metadata": {},
   "outputs": [
    {
     "name": "stdout",
     "output_type": "stream",
     "text": [
      "Training error before SGD: 2.325\n",
      "Training error after SGD: 0.324\n",
      "\n",
      "\n",
      "Testing error before SGD: 2.325\n",
      "Testing error after SGD: 0.326\n",
      "\n",
      "\n",
      "Training error difference: 2.001\n",
      "Testing error difference: 1.999\n"
     ]
    }
   ],
   "source": [
    "# Training Set error before SGD\n",
    "btraining_logits = model(x_train)\n",
    "btraining_error = loss(y_train, btraining_logits).numpy()\n",
    "\n",
    "# Testing Set error before SGD\n",
    "btesting_logits = model(x_test)\n",
    "btesting_error = loss(y_test, btesting_logits).numpy()\n",
    "\n",
    "# Training Set error after SGD\n",
    "training_logits = trained_model(x_train)\n",
    "training_error = loss(y_train, training_logits).numpy()\n",
    "\n",
    "# Testing Set error after SGD\n",
    "testing_logits = trained_model(x_test)\n",
    "testing_error = loss(y_test, testing_logits).numpy()\n",
    "\n",
    "print(\"Training error before SGD:\",round(btraining_error,3))\n",
    "print(\"Training error after SGD:\",round(training_error,3))\n",
    "\n",
    "print(\"\\n\")\n",
    "\n",
    "print(\"Testing error before SGD:\",round(btesting_error,3))\n",
    "print(\"Testing error after SGD:\",round(testing_error,3))\n",
    "\n",
    "print(\"\\n\")\n",
    "\n",
    "print(\"Training error difference:\",round(btraining_error-training_error,3))\n",
    "print(\"Testing error difference:\",round(btesting_error-testing_error,3))"
   ]
  }
 ],
 "metadata": {
  "kernelspec": {
   "display_name": "Python 3",
   "language": "python",
   "name": "python3"
  },
  "language_info": {
   "codemirror_mode": {
    "name": "ipython",
    "version": 3
   },
   "file_extension": ".py",
   "mimetype": "text/x-python",
   "name": "python",
   "nbconvert_exporter": "python",
   "pygments_lexer": "ipython3",
   "version": "3.11.7"
  }
 },
 "nbformat": 4,
 "nbformat_minor": 2
}
